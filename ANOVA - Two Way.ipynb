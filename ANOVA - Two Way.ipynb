{
 "cells": [
  {
   "cell_type": "code",
   "execution_count": null,
   "metadata": {},
   "outputs": [],
   "source": [
    "import pandas as pd\n",
    "import matplotlib.pyplot as plt\n",
    "from statsmodels.graphics.factorplots import interaction_plot\n",
    "from scipy import stats"
   ]
  },
  {
   "cell_type": "code",
   "execution_count": null,
   "metadata": {},
   "outputs": [],
   "source": [
    "data=pd.read_csv('datasets/ToothGrowth.csv')\n",
    "data.head()"
   ]
  },
  {
   "cell_type": "code",
   "execution_count": null,
   "metadata": {},
   "outputs": [],
   "source": [
    "data.shape"
   ]
  },
  {
   "cell_type": "code",
   "execution_count": null,
   "metadata": {},
   "outputs": [],
   "source": [
    "import statsmodels.api as sm\n",
    "from statsmodels.formula.api import ols\n",
    "\n",
    "model = ols('len ~ C(dose)*C(supp)', data).fit()\n",
    "res = sm.stats.anova_lm(model, typ= 2)\n",
    "res"
   ]
  },
  {
   "cell_type": "markdown",
   "metadata": {},
   "source": [
    "### Ordinary Method"
   ]
  },
  {
   "cell_type": "code",
   "execution_count": null,
   "metadata": {},
   "outputs": [],
   "source": [
    "#Degrees of freedom\n",
    "N=len(data.len)\n",
    "df_a=len(data.supp.unique())-1\n",
    "df_b=len(data.dose.unique())-1\n",
    "df_axb=df_a*df_b\n",
    "df_w=N-(len(data.supp.unique())*len(data.dose.unique()))\n",
    "df_w"
   ]
  },
  {
   "cell_type": "code",
   "execution_count": null,
   "metadata": {},
   "outputs": [],
   "source": [
    "#Sum of Squares\n",
    "grand_mean=data['len'].mean()\n",
    "ssq_a=sum([(data[data.supp==i].len.mean()-grand_mean)**2 for i in data.supp])\n",
    "ssq_b=sum([(data[data.dose==i].len.mean()-grand_mean)**2 for i in data.dose])\n",
    "ssq_t=sum((data.len-grand_mean)**2)\n",
    "vc=data[data.supp=='VC']\n",
    "oj=data[data.supp=='OJ']\n",
    "vc_dose_means=[vc[vc.dose==i].len.mean() for i in vc.dose]\n",
    "oj_dose_means=[oj[oj.dose==i].len.mean() for i in oj.dose]\n",
    "ssq_w=sum((oj.len-oj_dose_means)**2)+sum((vc.len-vc_dose_means)**2)\n",
    "ssq_axb=ssq_t-ssq_a-ssq_b-ssq_w"
   ]
  },
  {
   "cell_type": "code",
   "execution_count": null,
   "metadata": {},
   "outputs": [],
   "source": [
    "ssq_axb"
   ]
  },
  {
   "cell_type": "code",
   "execution_count": null,
   "metadata": {},
   "outputs": [],
   "source": [
    "#Mean of square\n",
    "ms_a=ssq_a/df_a\n",
    "ms_b=ssq_b/df_b\n",
    "ms_axb=ssq_axb/df_axb\n",
    "ms_w=ssq_w/df_w"
   ]
  },
  {
   "cell_type": "code",
   "execution_count": null,
   "metadata": {},
   "outputs": [],
   "source": [
    "#F-Ratio\n",
    "f_a=ms_a/ms_w\n",
    "f_b=ms_b/ms_w\n",
    "f_axb=ms_axb/ms_w"
   ]
  },
  {
   "cell_type": "code",
   "execution_count": null,
   "metadata": {},
   "outputs": [],
   "source": [
    "#P-Value\n",
    "p_a=stats.f.sf(f_a,df_a,df_w)\n",
    "p_b=stats.f.sf(f_b,df_b,df_w)\n",
    "p_axb=stats.f.sf(f_axb,df_axb,df_w)"
   ]
  },
  {
   "cell_type": "code",
   "execution_count": null,
   "metadata": {},
   "outputs": [],
   "source": [
    "results={'Sum_sq':[ssq_a,ssq_b,ssq_axb,ssq_w],\n",
    "         'df':[df_a,df_b,df_axb,df_w],\n",
    "         'F':[f_a,f_b,f_axb,'NaN'],\n",
    "         'PR(>F)':[p_a,p_b,p_axb,'NaN']}\n",
    "columns=['Sum_sq','df','F','PR(>F)']\n",
    "aov_table=pd.DataFrame(results,columns=columns,\n",
    "                       index=['Supp','Dose','Supp:Dose','Residual'])\n",
    "aov_table"
   ]
  },
  {
   "cell_type": "code",
   "execution_count": null,
   "metadata": {},
   "outputs": [],
   "source": []
  }
 ],
 "metadata": {
  "kernelspec": {
   "display_name": "Python 3",
   "language": "python",
   "name": "python3"
  },
  "language_info": {
   "codemirror_mode": {
    "name": "ipython",
    "version": 3
   },
   "file_extension": ".py",
   "mimetype": "text/x-python",
   "name": "python",
   "nbconvert_exporter": "python",
   "pygments_lexer": "ipython3",
   "version": "3.7.6"
  }
 },
 "nbformat": 4,
 "nbformat_minor": 4
}
