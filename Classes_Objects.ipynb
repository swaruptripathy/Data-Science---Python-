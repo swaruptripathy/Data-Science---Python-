{
 "cells": [
  {
   "cell_type": "code",
   "execution_count": 1,
   "metadata": {},
   "outputs": [],
   "source": [
    "# Class name - Dog\n",
    "class Dog:\n",
    "    def bark(self):\n",
    "        print('This dog is barking')\n",
    "    def sit(self):\n",
    "        print('This dog is sitting')\n",
    "    def eat(self):\n",
    "        print('This dog is eating')"
   ]
  },
  {
   "cell_type": "code",
   "execution_count": 2,
   "metadata": {},
   "outputs": [],
   "source": [
    "#create an object\n",
    "tommy = Dog()"
   ]
  },
  {
   "cell_type": "code",
   "execution_count": 3,
   "metadata": {},
   "outputs": [
    {
     "name": "stdout",
     "output_type": "stream",
     "text": [
      "This dog is barking\n"
     ]
    }
   ],
   "source": [
    "#Accessing methods\n",
    "tommy.bark()"
   ]
  },
  {
   "cell_type": "code",
   "execution_count": 4,
   "metadata": {},
   "outputs": [
    {
     "name": "stdout",
     "output_type": "stream",
     "text": [
      "This dog is barking\n"
     ]
    }
   ],
   "source": [
    "lucy = Dog()\n",
    "lucy.bark()"
   ]
  },
  {
   "cell_type": "code",
   "execution_count": 5,
   "metadata": {},
   "outputs": [
    {
     "name": "stdout",
     "output_type": "stream",
     "text": [
      "This dog is eating\n"
     ]
    }
   ],
   "source": [
    "lucy.eat()"
   ]
  },
  {
   "cell_type": "code",
   "execution_count": 6,
   "metadata": {},
   "outputs": [],
   "source": [
    "#Deleting an object\n",
    "del lucy"
   ]
  },
  {
   "cell_type": "code",
   "execution_count": 7,
   "metadata": {},
   "outputs": [
    {
     "ename": "NameError",
     "evalue": "name 'lucy' is not defined",
     "output_type": "error",
     "traceback": [
      "\u001b[1;31m---------------------------------------------------------------------------\u001b[0m",
      "\u001b[1;31mNameError\u001b[0m                                 Traceback (most recent call last)",
      "\u001b[1;32m<ipython-input-7-8e6b610acb00>\u001b[0m in \u001b[0;36m<module>\u001b[1;34m\u001b[0m\n\u001b[1;32m----> 1\u001b[1;33m \u001b[0mlucy\u001b[0m\u001b[1;33m.\u001b[0m\u001b[0msit\u001b[0m\u001b[1;33m(\u001b[0m\u001b[1;33m)\u001b[0m\u001b[1;33m\u001b[0m\u001b[1;33m\u001b[0m\u001b[0m\n\u001b[0m",
      "\u001b[1;31mNameError\u001b[0m: name 'lucy' is not defined"
     ]
    }
   ],
   "source": [
    "lucy.sit()"
   ]
  },
  {
   "cell_type": "code",
   "execution_count": 9,
   "metadata": {},
   "outputs": [],
   "source": [
    "# Class name - Dog\n",
    "class Dog:\n",
    "    breed = 'Collie'\n",
    "    def bark(self):\n",
    "        print('This dog', self.breed, 'is barking')\n",
    "    def sit(self):\n",
    "        print('This dog is sitting')\n",
    "        self.eat()\n",
    "    def eat(self):\n",
    "        print('This dog is eating')"
   ]
  },
  {
   "cell_type": "code",
   "execution_count": 10,
   "metadata": {},
   "outputs": [],
   "source": [
    "#creating object named as max\n",
    "max = Dog()"
   ]
  },
  {
   "cell_type": "code",
   "execution_count": 11,
   "metadata": {},
   "outputs": [
    {
     "name": "stdout",
     "output_type": "stream",
     "text": [
      "This dog Collie is barking\n"
     ]
    }
   ],
   "source": [
    "max.bark()"
   ]
  },
  {
   "cell_type": "code",
   "execution_count": 12,
   "metadata": {},
   "outputs": [
    {
     "name": "stdout",
     "output_type": "stream",
     "text": [
      "This dog is sitting\n",
      "This dog is eating\n"
     ]
    }
   ],
   "source": [
    "max.sit()"
   ]
  },
  {
   "cell_type": "markdown",
   "metadata": {},
   "source": [
    "### Constructor and Destructor"
   ]
  },
  {
   "cell_type": "code",
   "execution_count": 13,
   "metadata": {},
   "outputs": [],
   "source": [
    "#Constructor - Constructor is a method which gets called when you create an object\n",
    "#Destructor - Destructor is a method which gets called when you delete an object\n",
    "class Dog:\n",
    "    #This is a constructor\n",
    "    def __init__(self):\n",
    "        print('Constructor got called!')\n",
    "        \n",
    "    #This is a destructor\n",
    "    def __del__(self):\n",
    "        print('Destructor got called!')\n",
    "    \n",
    "    #user defined methods\n",
    "    def bark(self):\n",
    "        print('This dog is barking')\n",
    "    def sit(self):\n",
    "        print('This dog is sitting')\n",
    "    def eat(self):\n",
    "        print('This dog is eating')"
   ]
  },
  {
   "cell_type": "code",
   "execution_count": 14,
   "metadata": {},
   "outputs": [
    {
     "name": "stdout",
     "output_type": "stream",
     "text": [
      "Constructor got called!\n"
     ]
    }
   ],
   "source": [
    "#creating an object\n",
    "lucy = Dog()"
   ]
  },
  {
   "cell_type": "code",
   "execution_count": 15,
   "metadata": {},
   "outputs": [
    {
     "name": "stdout",
     "output_type": "stream",
     "text": [
      "Destructor got called!\n"
     ]
    }
   ],
   "source": [
    "del lucy"
   ]
  },
  {
   "cell_type": "code",
   "execution_count": 29,
   "metadata": {},
   "outputs": [],
   "source": [
    "class Dog:\n",
    "    #This is a constructor\n",
    "    def __init__(self,name,breed='Sepherd'):\n",
    "        self.dogname = name\n",
    "        self.breed = breed\n",
    "    \n",
    "    #user defined methods\n",
    "    def bark(self):\n",
    "        print(self.dogname,'is barking of breed',self.breed)\n",
    "    def sit(self,age):\n",
    "        print('This dog is sitting of age',age)\n",
    "    def eat(self):\n",
    "        print('This',self.dogname,'is eating')"
   ]
  },
  {
   "cell_type": "code",
   "execution_count": 30,
   "metadata": {},
   "outputs": [],
   "source": [
    "max = Dog('Max','Sepherd')"
   ]
  },
  {
   "cell_type": "code",
   "execution_count": 31,
   "metadata": {},
   "outputs": [
    {
     "name": "stdout",
     "output_type": "stream",
     "text": [
      "Max is barking of breed Sepherd\n"
     ]
    }
   ],
   "source": [
    "max.bark()"
   ]
  },
  {
   "cell_type": "code",
   "execution_count": 32,
   "metadata": {},
   "outputs": [
    {
     "name": "stdout",
     "output_type": "stream",
     "text": [
      "This dog is sitting of age 5\n"
     ]
    }
   ],
   "source": [
    "max.sit(5)"
   ]
  },
  {
   "cell_type": "code",
   "execution_count": 33,
   "metadata": {},
   "outputs": [],
   "source": [
    "lucy = Dog('Lucy','Pomerian')"
   ]
  },
  {
   "cell_type": "code",
   "execution_count": 34,
   "metadata": {},
   "outputs": [
    {
     "name": "stdout",
     "output_type": "stream",
     "text": [
      "Lucy is barking of breed Pomerian\n"
     ]
    }
   ],
   "source": [
    "lucy.bark()"
   ]
  },
  {
   "cell_type": "code",
   "execution_count": 35,
   "metadata": {},
   "outputs": [],
   "source": [
    "tommy = Dog('Tommy')"
   ]
  },
  {
   "cell_type": "code",
   "execution_count": 36,
   "metadata": {},
   "outputs": [
    {
     "name": "stdout",
     "output_type": "stream",
     "text": [
      "Tommy is barking of breed Sepherd\n"
     ]
    }
   ],
   "source": [
    "tommy.bark()"
   ]
  },
  {
   "cell_type": "code",
   "execution_count": 37,
   "metadata": {},
   "outputs": [],
   "source": [
    "del tommy"
   ]
  },
  {
   "cell_type": "code",
   "execution_count": 42,
   "metadata": {},
   "outputs": [],
   "source": [
    "#Inheritance\n",
    "class Wolf(Dog):\n",
    "    def howl(self):\n",
    "        print(self.dogname,'wolf is howling of breed',self.breed)"
   ]
  },
  {
   "cell_type": "code",
   "execution_count": 43,
   "metadata": {},
   "outputs": [],
   "source": [
    "ghost = Wolf('Ghost','Direwolf')"
   ]
  },
  {
   "cell_type": "code",
   "execution_count": 44,
   "metadata": {},
   "outputs": [
    {
     "name": "stdout",
     "output_type": "stream",
     "text": [
      "Ghost wolf is howling of breed Direwolf\n"
     ]
    }
   ],
   "source": [
    "ghost.howl()"
   ]
  },
  {
   "cell_type": "code",
   "execution_count": 45,
   "metadata": {},
   "outputs": [
    {
     "name": "stdout",
     "output_type": "stream",
     "text": [
      "This Ghost is eating\n"
     ]
    }
   ],
   "source": [
    "ghost.eat()"
   ]
  },
  {
   "cell_type": "code",
   "execution_count": null,
   "metadata": {},
   "outputs": [],
   "source": []
  }
 ],
 "metadata": {
  "kernelspec": {
   "display_name": "Python 3",
   "language": "python",
   "name": "python3"
  },
  "language_info": {
   "codemirror_mode": {
    "name": "ipython",
    "version": 3
   },
   "file_extension": ".py",
   "mimetype": "text/x-python",
   "name": "python",
   "nbconvert_exporter": "python",
   "pygments_lexer": "ipython3",
   "version": "3.7.6"
  }
 },
 "nbformat": 4,
 "nbformat_minor": 4
}
