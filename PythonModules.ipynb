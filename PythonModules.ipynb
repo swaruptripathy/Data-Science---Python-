{
 "cells": [
  {
   "cell_type": "code",
   "execution_count": 2,
   "metadata": {},
   "outputs": [],
   "source": [
    "import os #Python Standard Library"
   ]
  },
  {
   "cell_type": "code",
   "execution_count": 5,
   "metadata": {},
   "outputs": [
    {
     "name": "stdout",
     "output_type": "stream",
     "text": [
      "['.ipynb_checkpoints', '._ANN.ipynb', '._Apriori.ipynb', '._basic_operations.ipynb', '._Credit_Card.ipynb', '._Descriptive Statistics - CardioGoodFitness.ipynb', '._diabetes_study.ipynb', '._kmeans_new.ipynb', '._k_means_cricket.ipynb', '._OpenCV-Face-Recognition-Python.ipynb', '._OpenCV2.ipynb', '._perceptron.ipynb', '._pickle.ipynb', '._pickle2.ipynb', '._pre-processing AAC.ipynb', '._simple_linear_regression_ml.ipynb', '._TensorFlow_Minimal_example_complete.ipynb', '._Titanic-New Study.ipynb', '._titanic_predictions.csv', '._Walmart Sale prediction.ipynb', '50_Startups.csv', 'adaboost_income_prediction.ipynb', 'ANN.ipynb', 'ANOVA.ipynb', 'Apriori.ipynb', 'atari_rl.ipynb', 'Basic Operations using NumPy.ipynb', 'basic_modules.ipynb', 'basic_new.ipynb', 'basic_operations.ipynb', 'basic_python.ipynb', 'Calculus.ipynb', 'Calculus_secant.ipynb', 'CapstoneProject-creditrisk', 'cartpole_reinforcement.ipynb', 'Classes_Objects.ipynb', 'cnn_keras.ipynb', 'covariance.ipynb', 'COVID-19.csv', 'Credit_Card.ipynb', 'data_preprocessing1.ipynb', 'data_preprocessing2.ipynb', 'data_preprocessing3.ipynb', 'data_preprocessing4.ipynb', 'data_preprocessing5.ipynb', 'data_preprocessing6.ipynb', 'data_preprocessing_feature_scaling.ipynb', 'decision_tree.ipynb', 'Descriptive Statistics - CardioGoodFitness.ipynb', 'Descriptive Statistics - MtCars.ipynb', 'diabetes_gradientBoost.ipynb', 'diabetes_study.ipynb', 'distributions.ipynb', 'Face recognition.ipynb', 'face_recognition.ipynb', 'finalized_model.sav', 'Frequency.ipynb', 'gradientBoosting.ipynb', 'head.ipynb', 'income_prediction.ipynb', 'KFold.ipynb', 'KMeans cluster.ipynb', 'kmeans.ipynb', 'kmeans_new.ipynb', 'kmeans_xclara.ipynb', 'KNN.ipynb', 'knn_compare_model.png', 'k_means_cricket.ipynb', 'Logistic.ipynb', 'Matplotlib.ipynb', 'Matrix_basic.ipynb', 'matrix_mul.ipynb', 'mine_vs_rock_tensorflow.ipynb', 'Moneyball.ipynb', 'multiple_linear_regression.ipynb', 'multiple_linear_regression_ml.ipynb', 'my_new_file.txt', 'naive_bayes_ml.ipynb', 'new_file.txt', 'nltk_basic.ipynb', 'Numpy.ipynb', 'numpy_operations.ipynb', 'OpenCV-Face-Recognition-Python.ipynb', 'OpenCV2.ipynb', 'opencv_face_recognition.ipynb', 'Pandas.ipynb', 'pandas_basic.ipynb', 'pandas_operations.ipynb', 'PCA 2.ipynb', 'PCA.ipynb', 'perceptron.ipynb', 'Perceptrons.ipynb', 'pickle.ipynb', 'pickle2.ipynb', 'pickle_load.ipynb', 'polynomial_regression.ipynb', 'pre-processing AAC.ipynb', 'probability_distributions.ipynb', 'Random Forest.ipynb', 'read_sql.ipynb', 'Regularization.ipynb', 'RNN - Google Stock Price.ipynb', 'sampling.ipynb', 'seaborn.ipynb', 'Seaborn_new.ipynb', 'sentiment_analysis.ipynb', 'sentiment_nltk.ipynb', 'SimpleImputer.ipynb', 'simple_linear_regression_ml.ipynb', 'simple_lr.ipynb', 'Single layer perceptron.ipynb', 'Stats_measures.ipynb', 'SVM.ipynb', 'Tensorflow.ipynb', 'tensorflow1.ipynb', 'tensorflow_basic.ipynb', 'tensorflow_diabetes.ipynb', 'Tensorflow_example.ipynb', 'TensorFlow_Minimal_example_complete.ipynb', 'tensorflow_multilayer_perceptron.ipynb', 'Titanic-New Study.ipynb', 'Titanic_Adaboost_RF.ipynb', 'titanic_basic.ipynb', 'titanic_predictions.csv', 'titanic_test.ipynb', 'Walmart Sale prediction.ipynb', 'Walmart_Sales_Prediction.ipynb', '__pycache__']\n"
     ]
    }
   ],
   "source": [
    "print(os.listdir())"
   ]
  },
  {
   "cell_type": "code",
   "execution_count": 7,
   "metadata": {},
   "outputs": [
    {
     "name": "stdout",
     "output_type": "stream",
     "text": [
      "Help on built-in function chdir in module nt:\n",
      "\n",
      "chdir(path)\n",
      "    Change the current working directory to the specified path.\n",
      "    \n",
      "    path may always be specified as a string.\n",
      "    On some platforms, path may also be specified as an open file descriptor.\n",
      "      If this functionality is unavailable, using it raises an exception.\n",
      "\n"
     ]
    }
   ],
   "source": [
    "help(os.chdir)"
   ]
  },
  {
   "cell_type": "code",
   "execution_count": 8,
   "metadata": {},
   "outputs": [],
   "source": [
    "os.chdir('C:/Users/USER/pictures')"
   ]
  },
  {
   "cell_type": "code",
   "execution_count": 9,
   "metadata": {},
   "outputs": [
    {
     "data": {
      "text/plain": [
       "['Camera Roll', 'desktop.ini', 'Saved Pictures']"
      ]
     },
     "execution_count": 9,
     "metadata": {},
     "output_type": "execute_result"
    }
   ],
   "source": [
    "os.listdir()"
   ]
  },
  {
   "cell_type": "code",
   "execution_count": 16,
   "metadata": {},
   "outputs": [],
   "source": [
    "import random as rn #generate random numbers"
   ]
  },
  {
   "cell_type": "code",
   "execution_count": 17,
   "metadata": {},
   "outputs": [
    {
     "name": "stdout",
     "output_type": "stream",
     "text": [
      "0.27790215747660274\n"
     ]
    }
   ],
   "source": [
    "print(rn.random())"
   ]
  },
  {
   "cell_type": "code",
   "execution_count": 1,
   "metadata": {},
   "outputs": [],
   "source": [
    "#import datetime.date as dt\n",
    "from datetime import date as dt"
   ]
  },
  {
   "cell_type": "code",
   "execution_count": 2,
   "metadata": {},
   "outputs": [
    {
     "name": "stdout",
     "output_type": "stream",
     "text": [
      "2020-07-01\n"
     ]
    }
   ],
   "source": [
    "print(dt.today())"
   ]
  },
  {
   "cell_type": "code",
   "execution_count": 4,
   "metadata": {},
   "outputs": [],
   "source": [
    "import math"
   ]
  },
  {
   "cell_type": "code",
   "execution_count": 5,
   "metadata": {},
   "outputs": [
    {
     "data": {
      "text/plain": [
       "3.141592653589793"
      ]
     },
     "execution_count": 5,
     "metadata": {},
     "output_type": "execute_result"
    }
   ],
   "source": [
    "math.pi"
   ]
  },
  {
   "cell_type": "code",
   "execution_count": 11,
   "metadata": {},
   "outputs": [],
   "source": [
    "#Importing a user module\n",
    "import myModule as mo"
   ]
  },
  {
   "cell_type": "code",
   "execution_count": 12,
   "metadata": {},
   "outputs": [
    {
     "data": {
      "text/plain": [
       "5"
      ]
     },
     "execution_count": 12,
     "metadata": {},
     "output_type": "execute_result"
    }
   ],
   "source": [
    "mo.add(2,3)"
   ]
  },
  {
   "cell_type": "code",
   "execution_count": 13,
   "metadata": {},
   "outputs": [
    {
     "data": {
      "text/plain": [
       "6"
      ]
     },
     "execution_count": 13,
     "metadata": {},
     "output_type": "execute_result"
    }
   ],
   "source": [
    "mo.multiply(2,3)"
   ]
  },
  {
   "cell_type": "code",
   "execution_count": null,
   "metadata": {},
   "outputs": [],
   "source": []
  }
 ],
 "metadata": {
  "kernelspec": {
   "display_name": "Python 3",
   "language": "python",
   "name": "python3"
  },
  "language_info": {
   "codemirror_mode": {
    "name": "ipython",
    "version": 3
   },
   "file_extension": ".py",
   "mimetype": "text/x-python",
   "name": "python",
   "nbconvert_exporter": "python",
   "pygments_lexer": "ipython3",
   "version": "3.7.6"
  }
 },
 "nbformat": 4,
 "nbformat_minor": 4
}
